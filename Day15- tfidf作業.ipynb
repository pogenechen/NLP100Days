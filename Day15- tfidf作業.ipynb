{
 "cells": [
  {
   "cell_type": "markdown",
   "metadata": {},
   "source": [
    "## 作業目標：搭建一個TFIDF 模型"
   ]
  },
  {
   "cell_type": "markdown",
   "metadata": {},
   "source": [
    "---"
   ]
  },
  {
   "cell_type": "markdown",
   "metadata": {},
   "source": [
    "#### Reference:https://towardsdatascience.com/natural-language-processing-feature-engineering-using-tf-idf-e8b9d00e7e76"
   ]
  },
  {
   "cell_type": "code",
   "execution_count": 1,
   "metadata": {},
   "outputs": [],
   "source": [
    "import nltk\n",
    "documentA = 'the man went out for a walk'\n",
    "documentB = 'the children sat around the fire'"
   ]
  },
  {
   "cell_type": "markdown",
   "metadata": {},
   "source": [
    "## 首先我們做tokenize，並取出所有文件中的單詞"
   ]
  },
  {
   "cell_type": "code",
   "execution_count": null,
   "metadata": {},
   "outputs": [],
   "source": [
    "\n",
    "tokenize_A = nltk.word_tokenize(documentA)\n",
    "tokenize_B = nltk.word_tokenize(documentB)\n",
    "\n",
    "uniqueWords = set(tokenize_A).union(set(tokenize_B)) ##所有文件中的單詞\n",
    "uniqueWords"
   ]
  },
  {
   "cell_type": "markdown",
   "metadata": {},
   "source": [
    "## 計算每個文件中，所有uniqueWords出現的次數"
   ]
  },
  {
   "cell_type": "code",
   "execution_count": null,
   "metadata": {},
   "outputs": [],
   "source": [
    "numOfWordsA = {i:tokenize_A.count(i) for i in uniqueWords}\n",
    "numOfWordsB = {i:tokenize_B.count(i) for i in uniqueWords}"
   ]
  },
  {
   "cell_type": "code",
   "execution_count": 12,
   "metadata": {},
   "outputs": [
    {
     "data": {
      "text/plain": [
       "['the', 'man', 'went', 'out', 'for', 'a', 'walk']"
      ]
     },
     "execution_count": 12,
     "metadata": {},
     "output_type": "execute_result"
    }
   ],
   "source": [
    "numOfWordsA"
   ]
  },
  {
   "cell_type": "code",
   "execution_count": 11,
   "metadata": {},
   "outputs": [
    {
     "data": {
      "text/plain": [
       "{'man': 0,\n",
       " 'fire': 1,\n",
       " 'around': 1,\n",
       " 'went': 0,\n",
       " 'out': 0,\n",
       " 'children': 1,\n",
       " 'walk': 0,\n",
       " 'sat': 1,\n",
       " 'a': 0,\n",
       " 'the': 2,\n",
       " 'for': 0}"
      ]
     },
     "execution_count": 11,
     "metadata": {},
     "output_type": "execute_result"
    }
   ],
   "source": [
    "numOfWordsB"
   ]
  },
  {
   "cell_type": "markdown",
   "metadata": {},
   "source": [
    "## 定義function:計算TF"
   ]
  },
  {
   "cell_type": "code",
   "execution_count": 69,
   "metadata": {},
   "outputs": [],
   "source": [
    "def computeTF(wordDict, tokenize_item):\n",
    "    \"\"\"\n",
    "    wordDict : 文件內單詞對應出現數量的字典\n",
    "    tokenize_item : 文件tokenize後的輸出\n",
    "    \"\"\"\n",
    "    \n",
    "    bagOfWordsCount = len(tokenize_item) ## tokenize_item單詞數量\n",
    "    tfDict = {i:wordDict.get(i,0)/bagOfWordsCount for i in wordDict.keys()}\n",
    "    return tfDict"
   ]
  },
  {
   "cell_type": "markdown",
   "metadata": {},
   "source": [
    "## 定義function:計算IDF"
   ]
  },
  {
   "cell_type": "code",
   "execution_count": 52,
   "metadata": {},
   "outputs": [],
   "source": [
    "def computeIDF(documentsDict):\n",
    "    \"\"\"\n",
    "    documentsDict:為一個list，包含所有文件的wordDict\n",
    "    \"\"\"\n",
    "    import math\n",
    "    N = len(documentsDict)\n",
    "    word_list = []\n",
    "    for i in documentsDict:\n",
    "        word_list.extend(list(i.keys()))\n",
    "    word_list = list(set(word_list))\n",
    "    idfDict = {k:sum([i for i in map(lambda x:1 if x.get(k,0) > 0 else 0,documentsDict)]) for k in word_list}\n",
    "    idfDict = {i:math.log(N/idfDict[i]) for i in idfDict.keys()}\n",
    "    return idfDict"
   ]
  },
  {
   "cell_type": "markdown",
   "metadata": {},
   "source": [
    "## 定義function:計算TFIDF"
   ]
  },
  {
   "cell_type": "code",
   "execution_count": 54,
   "metadata": {},
   "outputs": [],
   "source": [
    "\n",
    "def computeTFIDF(tf_item, idfs):\n",
    "    tfidf = {}\n",
    "    for word, val in tf_item.items():\n",
    "        tfidf[word] = val * idfs[word]\n",
    "    return tfidf\n",
    "\n"
   ]
  },
  {
   "cell_type": "code",
   "execution_count": 70,
   "metadata": {},
   "outputs": [],
   "source": [
    "tfA = computeTF(numOfWordsA, tokenize_A)\n",
    "tfB = computeTF(numOfWordsB, tokenize_B)\n",
    "\n",
    "idfs = computeIDF([numOfWordsA, numOfWordsB])\n",
    "\n",
    "\n",
    "tfidfA = computeTFIDF(tfA, idfs)\n",
    "tfidfB = computeTFIDF(tfB, idfs)"
   ]
  },
  {
   "cell_type": "code",
   "execution_count": 45,
   "metadata": {},
   "outputs": [
    {
     "data": {
      "text/plain": [
       "{'a': 0.09902102579427789,\n",
       " 'out': 0.09902102579427789,\n",
       " 'for': 0.09902102579427789,\n",
       " 'man': 0.09902102579427789,\n",
       " 'fire': 0.0,\n",
       " 'sat': 0.0,\n",
       " 'went': 0.09902102579427789,\n",
       " 'the': 0.0,\n",
       " 'children': 0.0,\n",
       " 'around': 0.0,\n",
       " 'walk': 0.09902102579427789}"
      ]
     },
     "execution_count": 45,
     "metadata": {},
     "output_type": "execute_result"
    }
   ],
   "source": [
    "tfidfA"
   ]
  },
  {
   "cell_type": "code",
   "execution_count": 46,
   "metadata": {},
   "outputs": [
    {
     "data": {
      "text/plain": [
       "{'a': 0.0,\n",
       " 'out': 0.0,\n",
       " 'for': 0.0,\n",
       " 'man': 0.0,\n",
       " 'fire': 0.11552453009332421,\n",
       " 'sat': 0.11552453009332421,\n",
       " 'went': 0.0,\n",
       " 'the': 0.0,\n",
       " 'children': 0.11552453009332421,\n",
       " 'around': 0.11552453009332421,\n",
       " 'walk': 0.0}"
      ]
     },
     "execution_count": 46,
     "metadata": {},
     "output_type": "execute_result"
    }
   ],
   "source": [
    "tfidfB"
   ]
  },
  {
   "cell_type": "code",
   "execution_count": null,
   "metadata": {},
   "outputs": [],
   "source": []
  }
 ],
 "metadata": {
  "kernelspec": {
   "display_name": "finlab",
   "language": "python",
   "name": "finlab"
  },
  "language_info": {
   "codemirror_mode": {
    "name": "ipython",
    "version": 3
   },
   "file_extension": ".py",
   "mimetype": "text/x-python",
   "name": "python",
   "nbconvert_exporter": "python",
   "pygments_lexer": "ipython3",
   "version": "3.6.8"
  }
 },
 "nbformat": 4,
 "nbformat_minor": 4
}

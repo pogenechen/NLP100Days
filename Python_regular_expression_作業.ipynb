{
 "cells": [
  {
   "cell_type": "markdown",
   "metadata": {
    "colab_type": "text",
    "id": "tTJolmzeBLGr"
   },
   "source": [
    "# 作業目標: 使用python正規表達式對資料進行清洗處理\n",
    "\n",
    "這份作業我們會使用詐欺郵件的文本資料來作為清洗與處理的操作。\n",
    "[資料集](https://www.kaggle.com/rtatman/fraudulent-email-corpus/data#)"
   ]
  },
  {
   "cell_type": "markdown",
   "metadata": {
    "colab_type": "text",
    "id": "vhv0OElTBLGs"
   },
   "source": [
    "### 讀入資料文本\n",
    "因原始文本較大，先使用部份擷取的**sample_emails.txt**來進行練習"
   ]
  },
  {
   "cell_type": "code",
   "execution_count": 1,
   "metadata": {
    "colab": {},
    "colab_type": "code",
    "id": "a0BdDqt1BLGt"
   },
   "outputs": [],
   "source": [
    "#讀取文本資料\n",
    "with open('sample_emails.txt','r') as f:\n",
    "    sample_corpus = f.read() \n",
    "#<your code>#"
   ]
  },
  {
   "cell_type": "markdown",
   "metadata": {
    "colab_type": "text",
    "id": "aUg8HenSBLG2"
   },
   "source": [
    "### 讀取寄件者資訊\n",
    "觀察文本資料可以發現, 寄件者資訊都符合以下格式\n",
    "\n",
    "`From: <收件者姓名> <收件者電子郵件>`"
   ]
  },
  {
   "cell_type": "code",
   "execution_count": 2,
   "metadata": {
    "colab": {},
    "colab_type": "code",
    "id": "YgsUuHsfBLG2"
   },
   "outputs": [],
   "source": [
    "#<your code>#\n",
    "import re\n",
    "patt = re.compile(r'^From:.*>$',re.M)\n",
    "match = re.findall(patt,sample_corpus)"
   ]
  },
  {
   "cell_type": "code",
   "execution_count": 3,
   "metadata": {
    "colab": {},
    "colab_type": "code",
    "id": "pofRrOGhBLG5",
    "outputId": "28eb134d-2dfa-4743-fae8-1f0abda25968"
   },
   "outputs": [
    {
     "data": {
      "text/plain": [
       "['From: \"MR. JAMES NGOLA.\" <james_ngola2002@maktoob.com>',\n",
       " 'From: \"Mr. Ben Suleman\" <bensul2004nng@spinfinder.com>',\n",
       " 'From: \"PRINCE OBONG ELEME\" <obong_715@epatra.com>']"
      ]
     },
     "execution_count": 3,
     "metadata": {},
     "output_type": "execute_result"
    }
   ],
   "source": [
    "match"
   ]
  },
  {
   "cell_type": "markdown",
   "metadata": {
    "colab_type": "text",
    "id": "Ac8KHAqTBLG7"
   },
   "source": [
    "### 只讀取寄件者姓名"
   ]
  },
  {
   "cell_type": "code",
   "execution_count": 4,
   "metadata": {
    "colab": {},
    "colab_type": "code",
    "id": "coBDE2iBBLG8",
    "outputId": "aada7b60-56bb-45ae-f25f-941218a541c2"
   },
   "outputs": [
    {
     "data": {
      "text/plain": [
       "['MR. JAMES NGOLA.', 'Mr. Ben Suleman', 'PRINCE OBONG ELEME']"
      ]
     },
     "execution_count": 4,
     "metadata": {},
     "output_type": "execute_result"
    }
   ],
   "source": [
    "#<your code>#\n",
    "receiver = re.compile(r'^From: \"(.*)\"',re.M)\n",
    "match = re.findall(receiver,sample_corpus)\n",
    "\n",
    "match"
   ]
  },
  {
   "cell_type": "markdown",
   "metadata": {
    "colab_type": "text",
    "id": "gaJefecaBLG-"
   },
   "source": [
    "### 只讀取寄件者電子信箱"
   ]
  },
  {
   "cell_type": "code",
   "execution_count": 5,
   "metadata": {
    "colab": {},
    "colab_type": "code",
    "id": "G55ADKW_BLG_",
    "outputId": "7f3d9657-87b9-4c78-d324-3df919ee84a7"
   },
   "outputs": [
    {
     "data": {
      "text/plain": [
       "['james_ngola2002@maktoob.com',\n",
       " 'bensul2004nng@spinfinder.com',\n",
       " 'obong_715@epatra.com']"
      ]
     },
     "execution_count": 5,
     "metadata": {},
     "output_type": "execute_result"
    }
   ],
   "source": [
    "#<your code>#\n",
    "email = re.compile(r'^From:.*<(.*)>',re.M)\n",
    "match = re.findall(email,sample_corpus)\n",
    "match"
   ]
  },
  {
   "cell_type": "markdown",
   "metadata": {
    "colab_type": "text",
    "id": "t-RXjNLiBLHC"
   },
   "source": [
    "### 只讀取電子信箱中的寄件機構資訊\n",
    "ex: james_ngola2002@maktoob.com --> 取maktoob"
   ]
  },
  {
   "cell_type": "code",
   "execution_count": 6,
   "metadata": {
    "colab": {},
    "colab_type": "code",
    "id": "qC2Sd6_SBLHC",
    "outputId": "14e4e148-a660-4a15-88ac-e781300c9767"
   },
   "outputs": [
    {
     "data": {
      "text/plain": [
       "['maktoob', 'spinfinder', 'epatra']"
      ]
     },
     "execution_count": 6,
     "metadata": {},
     "output_type": "execute_result"
    }
   ],
   "source": [
    "#<your code>#\n",
    "sender = re.compile(r'^From:.*@(.*)\\.com',re.M)\n",
    "match = re.findall(sender,sample_corpus)\n",
    "match"
   ]
  },
  {
   "cell_type": "markdown",
   "metadata": {
    "colab_type": "text",
    "id": "vfzkuLCWBLHG"
   },
   "source": [
    "### 結合上面的配對方式, 將寄件者的帳號與機構訊返回\n",
    "ex: james_ngola2002@maktoob.com --> [james_ngola2002, maktoob]"
   ]
  },
  {
   "cell_type": "code",
   "execution_count": 7,
   "metadata": {
    "colab": {},
    "colab_type": "code",
    "id": "t3lTRThcBLHG",
    "outputId": "e94f295a-ffa4-4897-dc43-e93991aac20e"
   },
   "outputs": [
    {
     "name": "stdout",
     "output_type": "stream",
     "text": [
      "james_ngola2002, maktoob\n",
      "bensul2004nng, spinfinder\n",
      "obong_715, epatra\n"
     ]
    }
   ],
   "source": [
    "#<your code>#\n",
    "sender = re.compile(r'^From:.*<(.*).com',re.M)\n",
    "result = '\\n'.join(re.findall(sender,sample_corpus)).replace('@',', ')\n",
    "print(result)"
   ]
  },
  {
   "cell_type": "markdown",
   "metadata": {
    "colab_type": "text",
    "id": "Yl-BMduNBLHJ"
   },
   "source": [
    "### 使用正規表達式對email資料進行處理\n",
    "這裡我們會使用到python其他的套件協助處理(ex: pandas, email, etc)，這裡我們只需要專注在正規表達式上即可，其他的套件是方便我們整理與處理資料。"
   ]
  },
  {
   "cell_type": "markdown",
   "metadata": {
    "colab_type": "text",
    "id": "kqCacQ9tBLHJ"
   },
   "source": [
    "### 讀取與切分Email\n",
    "讀入的email為一個長字串，利用正規表達式切割讀入的資料成一封一封的email，並將結果以list表示。\n",
    "\n",
    "輸出: [email_1, email_2, email_3, ....]"
   ]
  },
  {
   "cell_type": "code",
   "execution_count": 167,
   "metadata": {
    "colab": {},
    "colab_type": "code",
    "id": "k9BCVTqoBLHK",
    "outputId": "656ffc81-cb9b-4174-8511-9013985c4cad"
   },
   "outputs": [
    {
     "data": {
      "text/plain": [
       "' IMPORTANT'"
      ]
     },
     "execution_count": 167,
     "metadata": {},
     "output_type": "execute_result"
    }
   ],
   "source": [
    "import re\n",
    "import pandas as pd\n",
    "import email\n",
    "\n",
    "###讀取文本資料:fradulent_emails.txt###\n",
    "#<your code>#\n",
    "with open('all_emails.txt','r',encoding='utf8',errors='ignore') as f:\n",
    "    corpus = f.read()\n",
    "###切割讀入的資料成一封一封的email###\n",
    "###我們可以使用list來儲存每一封email###\n",
    "###注意！這裡請仔細觀察sample資料，看資料是如何切分不同email###\n",
    "#<your code>#\n",
    "\n",
    "#查看有多少封email\n",
    "emails = re.split(r\"From r\",corpus)\n",
    "emails = emails[1:]\n",
    "len(emails)\n",
    "\n",
    "sender = re.search(r'Subject:.*',emails[10])\n",
    "re.search(r'(?<=Subject:\\s).*',sender.group()).group()\n"
   ]
  },
  {
   "cell_type": "markdown",
   "metadata": {
    "colab_type": "text",
    "id": "e9IN-2o0BLHM"
   },
   "source": [
    "### 從文本中擷取所有寄件者與收件者的姓名和地址"
   ]
  },
  {
   "cell_type": "code",
   "execution_count": 201,
   "metadata": {
    "colab": {},
    "colab_type": "code",
    "id": "d_WRYFpcBLHM"
   },
   "outputs": [],
   "source": [
    "emails_list = [] #創建空list來儲存所有email資訊\n",
    "\n",
    "for mail in emails[:20]: #只取前20筆資料 (處理速度比較快)\n",
    "    emails_dict = dict() #創建空字典儲存資訊\n",
    "    ###取的寄件者姓名與地址###\n",
    "    \n",
    "    #Step1: 取的寄件者資訊 (hint: From:)\n",
    "    #<your code>#\n",
    "    sender = re.search(r'From:.*',mail).group() if re.search(r'From:.*',mail) is not None else 'None'\n",
    "    \n",
    "    #Step2: 取的姓名與地址 (hint: 要注意有時會有沒取到配對的情況)\n",
    "    #<your code>#\n",
    "\n",
    "    sender_name = re.search(r'\\w\\S*@.*\\b',sender).group() if re.search(r'\\w\\S*@.*\\b',sender) is not None else None \n",
    "    sender_address = re.search(r'(?<=From: ).*<(.*)>',sender).group(1) if re.search(r'(?<=From: ).*<(.*)>',sender,flags=re.M) is not None else None\n",
    "    \n",
    "    \n",
    "    #Step3: 將取得的姓名與地址存入字典中\n",
    "    #<your code>#\n",
    "    emails_dict['sender_email'] = sender_address\n",
    "    emails_dict['sender_name'] = sender_name\n",
    "    \n",
    "    ###取的收件者姓名與地址###\n",
    "    #Step1: 取的寄件者資訊 (hint: To:)\n",
    "    #<your code>#\n",
    "    recipient = re.search(r'To:.*',mail).group() if re.search(r'To:.*',mail) is not None else 'None'\n",
    "    #Step2: 取的姓名與地址 (hint: 要注意有時會有沒取到配對的情況)\n",
    "    #<your code>#\n",
    "    recipient_address = re.search(r'\\w\\S*@.*\\b',recipient).group() if re.search(r'\\w\\S*@.*\\b',recipient,flags=re.M) is not None else None \n",
    "    recipient_name = re.search(r'(?<=From: ).*<(.*)>',recipient).group(1) if re.search(r'(?<=From: ).*<(.*)>',recipient,flags=re.M) is not None else None\n",
    "    #Step3: 將取得的姓名與地址存入字典中\n",
    "    #<your code>#\n",
    "    emails_dict['recipient_name'] = recipient_name\n",
    "    emails_dict['recipient_address'] = recipient_address\n",
    "    ###取得信件日期###\n",
    "    #Step1: 取得日期資訊 (hint: To:)\n",
    "    #<your code>#\n",
    "    date_info = re.search(r'Date:.*',mail).group() if re.search(r'Date:.*',mail) is not None else 'None'\n",
    "    \n",
    "    #Step2: 取得詳細日期(只需取得DD MMM YYYY)\n",
    "    #<your code>#\n",
    "    from datetime import datetime as dt\n",
    "    date__ = re.search(r'(?<=Date:\\s).*(?=\\s-)',date_info).group() if re.search(r'(?<=Date:\\s).*(?=\\s-)',date_info) is not None else None\n",
    "    date_ = dt.strptime(date__,'%a, %d %b %Y %H:%M:%S') if date__ is not None else None\n",
    "    date = f'{date_:%d %m %Y}' if date_ is not None else None\n",
    "    #Step3: 將取得的日期資訊存入字典中\n",
    "    #<your code>#\n",
    "    emails_dict['date'] = date\n",
    "        \n",
    "    ###取得信件主旨###\n",
    "    #Step1: 取得主旨資訊 (hint: Subject:)\n",
    "    #<your code>#\n",
    "    subject = re.search(r'Subject:.*',mail).group() if re.search(r'Subject:.*',mail) else None\n",
    "    #Step2: 移除不必要文字 (hint: Subject: )\n",
    "    #<your code>#\n",
    "    subject = re.search(r'(?<=Subject:\\s).*',subject).group() if re.search(r'(?<=Subject:\\s).*',subject) else None\n",
    "    #Step3: 將取得的主旨存入字典中\n",
    "    #<your code>#\n",
    "    emails_dict['subject'] = subject\n",
    "    \n",
    "    ###取得信件內文###\n",
    "    #這裡我們使用email package來取出email內文 (可以不需深究，本章節重點在正規表達式)\n",
    "    try:\n",
    "        full_email = email.message_from_string(mail)\n",
    "        body = full_email.get_payload()\n",
    "        emails_dict[\"email_body\"] = body\n",
    "    except:\n",
    "        emails_dict[\"email_body\"] = None\n",
    "    \n",
    "    ###將字典加入list###\n",
    "    #<your code>#\n",
    "    emails_list.append(emails_dict)"
   ]
  },
  {
   "cell_type": "code",
   "execution_count": 202,
   "metadata": {
    "colab": {},
    "colab_type": "code",
    "id": "CBfQRiYPBLHP"
   },
   "outputs": [
    {
     "data": {
      "text/html": [
       "<div>\n",
       "<style scoped>\n",
       "    .dataframe tbody tr th:only-of-type {\n",
       "        vertical-align: middle;\n",
       "    }\n",
       "\n",
       "    .dataframe tbody tr th {\n",
       "        vertical-align: top;\n",
       "    }\n",
       "\n",
       "    .dataframe thead th {\n",
       "        text-align: right;\n",
       "    }\n",
       "</style>\n",
       "<table border=\"1\" class=\"dataframe\">\n",
       "  <thead>\n",
       "    <tr style=\"text-align: right;\">\n",
       "      <th></th>\n",
       "      <th>date</th>\n",
       "      <th>email_body</th>\n",
       "      <th>recipient_address</th>\n",
       "      <th>recipient_name</th>\n",
       "      <th>sender_email</th>\n",
       "      <th>sender_name</th>\n",
       "      <th>subject</th>\n",
       "    </tr>\n",
       "  </thead>\n",
       "  <tbody>\n",
       "    <tr>\n",
       "      <th>0</th>\n",
       "      <td>None</td>\n",
       "      <td>FROM:MR. JAMES NGOLA.\\nCONFIDENTIAL TEL: 233-2...</td>\n",
       "      <td>james_ngola2002@maktoob.com</td>\n",
       "      <td>None</td>\n",
       "      <td>james_ngola2002@maktoob.com</td>\n",
       "      <td>james_ngola2002@maktoob.com</td>\n",
       "      <td>URGENT BUSINESS ASSISTANCE AND PARTNERSHIP</td>\n",
       "    </tr>\n",
       "    <tr>\n",
       "      <th>1</th>\n",
       "      <td>None</td>\n",
       "      <td>Dear Friend,\\n\\nI am Mr. Ben Suleman a custom ...</td>\n",
       "      <td>R@M</td>\n",
       "      <td>None</td>\n",
       "      <td>bensul2004nng@spinfinder.com</td>\n",
       "      <td>bensul2004nng@spinfinder.com</td>\n",
       "      <td>URGENT ASSISTANCE /RELATIONSHIP (P)</td>\n",
       "    </tr>\n",
       "    <tr>\n",
       "      <th>2</th>\n",
       "      <td>None</td>\n",
       "      <td>FROM HIS ROYAL MAJESTY (HRM) CROWN RULER OF EL...</td>\n",
       "      <td>obong_715@epatra.com</td>\n",
       "      <td>None</td>\n",
       "      <td>obong_715@epatra.com</td>\n",
       "      <td>obong_715@epatra.com</td>\n",
       "      <td>GOOD DAY TO YOU</td>\n",
       "    </tr>\n",
       "    <tr>\n",
       "      <th>3</th>\n",
       "      <td>None</td>\n",
       "      <td>FROM HIS ROYAL MAJESTY (HRM) CROWN RULER OF EL...</td>\n",
       "      <td>webmaster@aclweb.org</td>\n",
       "      <td>None</td>\n",
       "      <td>obong_715@epatra.com</td>\n",
       "      <td>obong_715@epatra.com</td>\n",
       "      <td>GOOD DAY TO YOU</td>\n",
       "    </tr>\n",
       "    <tr>\n",
       "      <th>4</th>\n",
       "      <td>None</td>\n",
       "      <td>Dear sir, \\n \\nIt is with a heart full of hope...</td>\n",
       "      <td>m_abacha03@www.com</td>\n",
       "      <td>None</td>\n",
       "      <td>m_abacha03@www.com</td>\n",
       "      <td>m_abacha03@www.com</td>\n",
       "      <td>I Need Your Assistance.</td>\n",
       "    </tr>\n",
       "    <tr>\n",
       "      <th>5</th>\n",
       "      <td>None</td>\n",
       "      <td>ATTENTION:                                    ...</td>\n",
       "      <td>davidkuta@yahoo.com</td>\n",
       "      <td>None</td>\n",
       "      <td>davidkuta@postmark.net</td>\n",
       "      <td>davidkuta@postmark.net</td>\n",
       "      <td>Partnership</td>\n",
       "    </tr>\n",
       "    <tr>\n",
       "      <th>6</th>\n",
       "      <td>None</td>\n",
       "      <td>Dear Sir,\\n\\nI am Barrister Tunde Dosumu (SAN)...</td>\n",
       "      <td>tunde_dosumu@lycos.com</td>\n",
       "      <td>None</td>\n",
       "      <td>tunde_dosumu@lycos.com</td>\n",
       "      <td>tunde_dosumu@lycos.com</td>\n",
       "      <td>Urgent Attention</td>\n",
       "    </tr>\n",
       "    <tr>\n",
       "      <th>7</th>\n",
       "      <td>None</td>\n",
       "      <td>FROM: WILLIAM DRALLO.\\nCONFIDENTIAL TEL: 233-2...</td>\n",
       "      <td>william2244drallo@maktoob.com</td>\n",
       "      <td>None</td>\n",
       "      <td>william2244drallo@maktoob.com</td>\n",
       "      <td>william2244drallo@maktoob.com</td>\n",
       "      <td>URGENT BUSINESS PRPOSAL</td>\n",
       "    </tr>\n",
       "    <tr>\n",
       "      <th>8</th>\n",
       "      <td>None</td>\n",
       "      <td>CHALLENGE SECURITIES LTD.\\nLAGOS, NIGERIA\\n\\n\\...</td>\n",
       "      <td>R@M</td>\n",
       "      <td>None</td>\n",
       "      <td>abdul_817@rediffmail.com</td>\n",
       "      <td>abdul_817@rediffmail.com</td>\n",
       "      <td>THANK YOU</td>\n",
       "    </tr>\n",
       "    <tr>\n",
       "      <th>9</th>\n",
       "      <td>None</td>\n",
       "      <td>Dear Sir,\\n\\nI am Barrister Tunde Dosumu (SAN)...</td>\n",
       "      <td>barrister_td@lycos.com</td>\n",
       "      <td>None</td>\n",
       "      <td>barrister_td@lycos.com</td>\n",
       "      <td>barrister_td@lycos.com</td>\n",
       "      <td>Urgent Assistance</td>\n",
       "    </tr>\n",
       "    <tr>\n",
       "      <th>10</th>\n",
       "      <td>06 11 2001</td>\n",
       "      <td>FROM: MR TEMI JOHNSON\\nDEMOCRATIC REPUBLIC OF ...</td>\n",
       "      <td>R@E</td>\n",
       "      <td>None</td>\n",
       "      <td>temijohnson2@rediffmail.com</td>\n",
       "      <td>temijohnson2@rediffmail.com</td>\n",
       "      <td>IMPORTANT</td>\n",
       "    </tr>\n",
       "    <tr>\n",
       "      <th>11</th>\n",
       "      <td>None</td>\n",
       "      <td>FROM THE DESK OF DR.SAM JORDAN\\nTHE MANAGER\\nH...</td>\n",
       "      <td>R@M</td>\n",
       "      <td>None</td>\n",
       "      <td>sjordan@diplomats.com</td>\n",
       "      <td>sjordan@diplomats.com</td>\n",
       "      <td>URGENT ASSISTANCE.</td>\n",
       "    </tr>\n",
       "    <tr>\n",
       "      <th>12</th>\n",
       "      <td>None</td>\n",
       "      <td>\\nSENIOR ADVOCATE OF NIGERIA\\nBARR. PETER BROW...</td>\n",
       "      <td>p_brown2@lawyer.com</td>\n",
       "      <td>None</td>\n",
       "      <td>None</td>\n",
       "      <td>p_brown2@lawyer.com</td>\n",
       "      <td>From: Barrister Peter Brown</td>\n",
       "    </tr>\n",
       "    <tr>\n",
       "      <th>13</th>\n",
       "      <td>None</td>\n",
       "      <td>From;Mr.Michael Kamah and Family,\\n          J...</td>\n",
       "      <td>R@M</td>\n",
       "      <td>None</td>\n",
       "      <td>None</td>\n",
       "      <td>mic_k1@post.com</td>\n",
       "      <td>MICHAEL</td>\n",
       "    </tr>\n",
       "    <tr>\n",
       "      <th>14</th>\n",
       "      <td>13 11 2001</td>\n",
       "      <td>FROM: COL. MICHAEL BUNDU. \\nDEMOCRATIC REPUBLI...</td>\n",
       "      <td>R@E</td>\n",
       "      <td>None</td>\n",
       "      <td>mikebunduu1@rediffmail.com</td>\n",
       "      <td>mikebunduu1@rediffmail.com</td>\n",
       "      <td>*****SPAM***** IMPORTANT</td>\n",
       "    </tr>\n",
       "    <tr>\n",
       "      <th>15</th>\n",
       "      <td>None</td>\n",
       "      <td>Dear Sir,\\n\\nA Very Good day to you   \\n\\nI am...</td>\n",
       "      <td>presidentwifeng@indiatimes.com</td>\n",
       "      <td>None</td>\n",
       "      <td>elixwilliam@usa.com</td>\n",
       "      <td>elixwilliam@usa.com</td>\n",
       "      <td>TRUST TRANSACTION</td>\n",
       "    </tr>\n",
       "    <tr>\n",
       "      <th>16</th>\n",
       "      <td>None</td>\n",
       "      <td>FROM: DR. ANAYO AWKA BANK MANAGER \\n(UNION BAN...</td>\n",
       "      <td>webmaster@aclweb.org</td>\n",
       "      <td>None</td>\n",
       "      <td>anayoawka@hotmail.com</td>\n",
       "      <td>anayoawka@hotmail.com</td>\n",
       "      <td>REQUEST FOR YOUR UNRESERVED ASSISTANCE</td>\n",
       "    </tr>\n",
       "    <tr>\n",
       "      <th>17</th>\n",
       "      <td>None</td>\n",
       "      <td>FROM: DR. ANAYO AWKA BANK MANAGER \\n(UNION BAN...</td>\n",
       "      <td>webmaster@aclweb.org</td>\n",
       "      <td>None</td>\n",
       "      <td>anayoawka@hotmail.com</td>\n",
       "      <td>anayoawka@hotmail.com</td>\n",
       "      <td>REQUEST FOR YOUR UNRESERVED ASSISTANCE</td>\n",
       "    </tr>\n",
       "    <tr>\n",
       "      <th>18</th>\n",
       "      <td>None</td>\n",
       "      <td>The Director,\\n\\n\\n\\n            SEEKING FOR I...</td>\n",
       "      <td>ntcir-listmem@newns.op.nii.ac.jp</td>\n",
       "      <td>None</td>\n",
       "      <td>victorloma@netscape.net</td>\n",
       "      <td>victorloma@netscape.net</td>\n",
       "      <td>Urgent Assistance</td>\n",
       "    </tr>\n",
       "    <tr>\n",
       "      <th>19</th>\n",
       "      <td>None</td>\n",
       "      <td>The Director,\\n\\n\\n\\n            SEEKING FOR I...</td>\n",
       "      <td>ntcir-outgoing@mail.op.nii.ac.jp</td>\n",
       "      <td>None</td>\n",
       "      <td>victorloma@netscape.net</td>\n",
       "      <td>victorloma@netscape.net</td>\n",
       "      <td>Urgent Assistance</td>\n",
       "    </tr>\n",
       "  </tbody>\n",
       "</table>\n",
       "</div>"
      ],
      "text/plain": [
       "          date                                         email_body  \\\n",
       "0         None  FROM:MR. JAMES NGOLA.\\nCONFIDENTIAL TEL: 233-2...   \n",
       "1         None  Dear Friend,\\n\\nI am Mr. Ben Suleman a custom ...   \n",
       "2         None  FROM HIS ROYAL MAJESTY (HRM) CROWN RULER OF EL...   \n",
       "3         None  FROM HIS ROYAL MAJESTY (HRM) CROWN RULER OF EL...   \n",
       "4         None  Dear sir, \\n \\nIt is with a heart full of hope...   \n",
       "5         None  ATTENTION:                                    ...   \n",
       "6         None  Dear Sir,\\n\\nI am Barrister Tunde Dosumu (SAN)...   \n",
       "7         None  FROM: WILLIAM DRALLO.\\nCONFIDENTIAL TEL: 233-2...   \n",
       "8         None  CHALLENGE SECURITIES LTD.\\nLAGOS, NIGERIA\\n\\n\\...   \n",
       "9         None  Dear Sir,\\n\\nI am Barrister Tunde Dosumu (SAN)...   \n",
       "10  06 11 2001  FROM: MR TEMI JOHNSON\\nDEMOCRATIC REPUBLIC OF ...   \n",
       "11        None  FROM THE DESK OF DR.SAM JORDAN\\nTHE MANAGER\\nH...   \n",
       "12        None  \\nSENIOR ADVOCATE OF NIGERIA\\nBARR. PETER BROW...   \n",
       "13        None  From;Mr.Michael Kamah and Family,\\n          J...   \n",
       "14  13 11 2001  FROM: COL. MICHAEL BUNDU. \\nDEMOCRATIC REPUBLI...   \n",
       "15        None  Dear Sir,\\n\\nA Very Good day to you   \\n\\nI am...   \n",
       "16        None  FROM: DR. ANAYO AWKA BANK MANAGER \\n(UNION BAN...   \n",
       "17        None  FROM: DR. ANAYO AWKA BANK MANAGER \\n(UNION BAN...   \n",
       "18        None  The Director,\\n\\n\\n\\n            SEEKING FOR I...   \n",
       "19        None  The Director,\\n\\n\\n\\n            SEEKING FOR I...   \n",
       "\n",
       "                   recipient_address recipient_name  \\\n",
       "0        james_ngola2002@maktoob.com           None   \n",
       "1                                R@M           None   \n",
       "2               obong_715@epatra.com           None   \n",
       "3               webmaster@aclweb.org           None   \n",
       "4                 m_abacha03@www.com           None   \n",
       "5                davidkuta@yahoo.com           None   \n",
       "6             tunde_dosumu@lycos.com           None   \n",
       "7      william2244drallo@maktoob.com           None   \n",
       "8                                R@M           None   \n",
       "9             barrister_td@lycos.com           None   \n",
       "10                               R@E           None   \n",
       "11                               R@M           None   \n",
       "12               p_brown2@lawyer.com           None   \n",
       "13                               R@M           None   \n",
       "14                               R@E           None   \n",
       "15    presidentwifeng@indiatimes.com           None   \n",
       "16              webmaster@aclweb.org           None   \n",
       "17              webmaster@aclweb.org           None   \n",
       "18  ntcir-listmem@newns.op.nii.ac.jp           None   \n",
       "19  ntcir-outgoing@mail.op.nii.ac.jp           None   \n",
       "\n",
       "                     sender_email                    sender_name  \\\n",
       "0     james_ngola2002@maktoob.com    james_ngola2002@maktoob.com   \n",
       "1    bensul2004nng@spinfinder.com   bensul2004nng@spinfinder.com   \n",
       "2            obong_715@epatra.com           obong_715@epatra.com   \n",
       "3            obong_715@epatra.com           obong_715@epatra.com   \n",
       "4              m_abacha03@www.com             m_abacha03@www.com   \n",
       "5          davidkuta@postmark.net         davidkuta@postmark.net   \n",
       "6          tunde_dosumu@lycos.com         tunde_dosumu@lycos.com   \n",
       "7   william2244drallo@maktoob.com  william2244drallo@maktoob.com   \n",
       "8        abdul_817@rediffmail.com       abdul_817@rediffmail.com   \n",
       "9          barrister_td@lycos.com         barrister_td@lycos.com   \n",
       "10    temijohnson2@rediffmail.com    temijohnson2@rediffmail.com   \n",
       "11          sjordan@diplomats.com          sjordan@diplomats.com   \n",
       "12                           None            p_brown2@lawyer.com   \n",
       "13                           None                mic_k1@post.com   \n",
       "14     mikebunduu1@rediffmail.com     mikebunduu1@rediffmail.com   \n",
       "15            elixwilliam@usa.com            elixwilliam@usa.com   \n",
       "16          anayoawka@hotmail.com          anayoawka@hotmail.com   \n",
       "17          anayoawka@hotmail.com          anayoawka@hotmail.com   \n",
       "18        victorloma@netscape.net        victorloma@netscape.net   \n",
       "19        victorloma@netscape.net        victorloma@netscape.net   \n",
       "\n",
       "                                       subject  \n",
       "0   URGENT BUSINESS ASSISTANCE AND PARTNERSHIP  \n",
       "1          URGENT ASSISTANCE /RELATIONSHIP (P)  \n",
       "2                              GOOD DAY TO YOU  \n",
       "3                              GOOD DAY TO YOU  \n",
       "4                      I Need Your Assistance.  \n",
       "5                                  Partnership  \n",
       "6                             Urgent Attention  \n",
       "7                      URGENT BUSINESS PRPOSAL  \n",
       "8                                    THANK YOU  \n",
       "9                            Urgent Assistance  \n",
       "10                                   IMPORTANT  \n",
       "11                          URGENT ASSISTANCE.  \n",
       "12                 From: Barrister Peter Brown  \n",
       "13                                     MICHAEL  \n",
       "14                    *****SPAM***** IMPORTANT  \n",
       "15                           TRUST TRANSACTION  \n",
       "16      REQUEST FOR YOUR UNRESERVED ASSISTANCE  \n",
       "17      REQUEST FOR YOUR UNRESERVED ASSISTANCE  \n",
       "18                           Urgent Assistance  \n",
       "19                           Urgent Assistance  "
      ]
     },
     "execution_count": 202,
     "metadata": {},
     "output_type": "execute_result"
    }
   ],
   "source": [
    "#將處理結果轉化為dataframe\n",
    "emails_df = pd.DataFrame(emails_list)\n",
    "emails_df"
   ]
  },
  {
   "cell_type": "code",
   "execution_count": null,
   "metadata": {},
   "outputs": [],
   "source": []
  }
 ],
 "metadata": {
  "colab": {
   "name": "Python_regular_expression_作業.ipynb",
   "provenance": []
  },
  "kernelspec": {
   "display_name": "finlab",
   "language": "python",
   "name": "finlab"
  },
  "language_info": {
   "codemirror_mode": {
    "name": "ipython",
    "version": 3
   },
   "file_extension": ".py",
   "mimetype": "text/x-python",
   "name": "python",
   "nbconvert_exporter": "python",
   "pygments_lexer": "ipython3",
   "version": "3.6.8"
  }
 },
 "nbformat": 4,
 "nbformat_minor": 4
}

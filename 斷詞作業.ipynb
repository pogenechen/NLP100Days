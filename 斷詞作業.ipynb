{
 "cells": [
  {
   "cell_type": "markdown",
   "metadata": {},
   "source": [
    "## 作業目標: 了解斷詞演算法的背後計算"
   ]
  },
  {
   "cell_type": "markdown",
   "metadata": {},
   "source": [
    "### 根據課程講述的內容, 請計算出下列剩餘所有情況的\n",
    "若有一個人連續觀察到三天水草都是乾燥的(Dry), 則這三天的天氣機率為何？(可參考講義第13頁)\n",
    "(Hint: 共有8種可能機率)\n",
    "\n",
    "```python\n",
    "states = ('sunny', 'rainy')\n",
    "observations = ('dry', 'damp', 'soggy')\n",
    "start_probability = {'sunny': 0.4, 'rainy': 0.6}\n",
    "transition_probability = {'sunny':{'sunny':0.6, 'rainy':0.4},\n",
    "                          'rainy': {'sunny':0.3, 'rainy':0.7}}\n",
    "emission_probatility = {'sunny': {'dry':0.6, 'damp':0.3, 'soggy':0.1},\n",
    "                        'rainy': {'dry':0.1, 'damp':0.4, 'soggy':0.5}}\n",
    "```"
   ]
  },
  {
   "cell_type": "markdown",
   "metadata": {},
   "source": [
    "```\n",
    "觀察狀態 = 'dry', 'dry', 'dry'\n",
    "Sunny, Sunny, Sunny: 0.4*(0.6)*0.6*(0.6)*0.6*(0.6) = 0.031104\n",
    "Rainy, Sunny, Sunny: 0.6*(0.1)*0.3*(0.6)*0.6*(0.6) = 0.003888\n",
    "Sunny, Rainy, Sunny: 0.4*(0.6)*0.4*(0.1)*0.3*(0.6) = 0.001728\n",
    "Sunny, Rainy, Rainy: 0.4*(0.6)*0.4*(0.1)*0.7*(0.1) = 0.000672\n",
    "Sunny, Sunny, Rainy: 0.4*(0.6)*0.6*(0.6)*0.4*(0.1) = 0.003456\n",
    "Rainy, Rainy, Sunny: 0.6*(0.1)*0.7*(0.1)*0.3*(0.6) = 0.000756\n",
    "Rainy, Sunny, Rainy: 0.6*(0.1)*0.3*(0.6)*0.4*(0.1) = 0.000432\n",
    "Rainy, Rainy, Rainy: 0.6*(0.1)*0.7*(0.1)*0.7*(0.1) = 0.000294\n",
    "###<your answers>###\n",
    "\n",
    "最大機率為: Sunny, Sunny, Sunny\n",
    "```"
   ]
  },
  {
   "cell_type": "markdown",
   "metadata": {},
   "source": [
    "### 根據上述條件, 寫出Viterbi應用程式"
   ]
  },
  {
   "cell_type": "code",
   "execution_count": 153,
   "metadata": {},
   "outputs": [
    {
     "name": "stdout",
     "output_type": "stream",
     "text": [
      "{'SSS': 0.031104, 'RSS': 0.003888, 'SRS': 0.001728, 'RRS': 0.000756, 'SSR': 0.003456, 'RSR': 0.000432, 'SRR': 0.000672, 'RRR': 0.000294}\n",
      "('SSS', 0.031104)\n"
     ]
    }
   ],
   "source": [
    "import pandas as pd\n",
    "\n",
    "def vit(n,init_p,trans_p,emission_p,obs,trans = False):\n",
    "\n",
    "    def transfer(item):  \n",
    "        lst = []\n",
    "        for i in range(len(item)):\n",
    "            lst.append(item[i:i+2] if i+2 <=len(item)  else '')\n",
    "        return pd.Series(lst[:-1])\n",
    " \n",
    "    init_denote = list(init_p.keys())\n",
    "    if n == 0:\n",
    "        return pd.Series(init_denote)\n",
    "    else:\n",
    "        x = vit(n-1,init_p,trans_p,emission_p,obs,trans = False).map(lambda x:x+init_denote[0])\n",
    "        for i in range(len(init_denote)):\n",
    "            try:\n",
    "                x = x.append(vit(n-1,init_p,trans_p,emission_p,obs,trans = False).map(lambda x:x+init_denote[i+1]))\n",
    "            except:\n",
    "                continue\n",
    "                \n",
    "        if not trans:\n",
    "            return x\n",
    "        else:\n",
    "            final_p =  x.map(transfer).map(lambda x:x.map(lambda y:trans_p[y]).product()*init_p[x[0][0]])\n",
    "            emission = x.map(lambda x:[i for i in x]).map(lambda x:pd.Series([emission_p[x[i]][obs[i]] for i in range(len(x))]).product())\n",
    "            dict_ = dict(zip(x,round(final_p*emission,6)))\n",
    "            return dict_, (max(dict_,key=dict_.get), dict_[max(dict_,key=dict_.get)]) \n",
    "\n",
    "transition_prob = {'SS':0.6,'SR':0.4,'RS':0.3,'RR':0.7}\n",
    "init_prob = {'S':0.4,'R':0.6}\n",
    "emission_prob = {'S': {'dry':0.6, 'damp':0.3, 'soggy':0.1},\n",
    "              'R': {'dry':0.1, 'damp':0.4, 'soggy':0.5}}\n",
    "observations = ['dry','dry','dry']\n",
    "\n",
    "path_prob_dict,most_likely_path = vit(2,init_prob,transition_prob,emission_prob,observations,trans=True)\n",
    "\n",
    "print(path_prob_dict)\n",
    "print(most_likely_path)\n"
   ]
  },
  {
   "cell_type": "code",
   "execution_count": null,
   "metadata": {},
   "outputs": [],
   "source": []
  }
 ],
 "metadata": {
  "kernelspec": {
   "display_name": "finlab",
   "language": "python",
   "name": "finlab"
  },
  "language_info": {
   "codemirror_mode": {
    "name": "ipython",
    "version": 3
   },
   "file_extension": ".py",
   "mimetype": "text/x-python",
   "name": "python",
   "nbconvert_exporter": "python",
   "pygments_lexer": "ipython3",
   "version": "3.6.8"
  }
 },
 "nbformat": 4,
 "nbformat_minor": 4
}

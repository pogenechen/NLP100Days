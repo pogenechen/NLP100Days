{
 "cells": [
  {
   "cell_type": "markdown",
   "metadata": {},
   "source": [
    "### 作業目的: 使用N-Gram模型預測文字\n",
    "\n",
    "本次作業會使用[桃園市官網市政新聞](https://data.gov.tw/dataset/25891)來進行練習"
   ]
  },
  {
   "cell_type": "markdown",
   "metadata": {},
   "source": [
    "### 載入所需的Libraries"
   ]
  },
  {
   "cell_type": "code",
   "execution_count": 1,
   "metadata": {},
   "outputs": [],
   "source": [
    "import json\n",
    "import re\n",
    "from collections import Counter, namedtuple\n",
    "import pandas as pd\n"
   ]
  },
  {
   "cell_type": "markdown",
   "metadata": {},
   "source": [
    "### 載入資料"
   ]
  },
  {
   "cell_type": "code",
   "execution_count": 2,
   "metadata": {},
   "outputs": [],
   "source": [
    "with open('./WebNews.json', 'r',encoding='utf8',errors='ignore') as f:\n",
    "    ### <your code> ###\n",
    "    news_data = json.load(f)\n",
    "    \n",
    "def clean_corpus(corpus):\n",
    "    return re.sub(r'\\W','',re.sub('<.*?>|&.*?;','',corpus))\n",
    "    "
   ]
  },
  {
   "cell_type": "markdown",
   "metadata": {},
   "source": [
    "### 進行資料清洗\n",
    "觀察上面的資料，資料包含許多其他的資訊，我們需要將真正的新聞內文取出，並且對內文進行文字清洗。\n",
    "請做以下的文字處理:\n",
    "\n",
    "1. 取出新聞內文\n",
    "2. 去除HTML Tags\n",
    "3. 移除標點符號，只保留英文、數字、中文"
   ]
  },
  {
   "cell_type": "code",
   "execution_count": 3,
   "metadata": {},
   "outputs": [
    {
     "data": {
      "text/plain": [
       "1000"
      ]
     },
     "execution_count": 3,
     "metadata": {},
     "output_type": "execute_result"
    }
   ],
   "source": [
    "#取出新聞內文\n",
    "corpus_list = []### <your code> ###\n",
    "for i in news_data:\n",
    "    corpus_list.append(clean_corpus(i['detailcontent']))\n",
    "#去除HTML Tags與標點符號(只保留英文、數字、中文)\n",
    "#corpus_list = ### <your code> ###\n",
    "len(corpus_list)"
   ]
  },
  {
   "cell_type": "markdown",
   "metadata": {},
   "source": [
    "### 建立N-Gram模型\n",
    "N-Gram模型在計算詞機率時為(以Trigram為例)\n",
    "$$\n",
    "P(W_i|W_{i-1},W_{i-2}) = \\frac{count(W_i,W_{i-1},W_{i-2})}{count(W_{i-1},W_{i-2})}\n",
    "$$\n",
    "\n",
    "舉例來說\n",
    "$$\n",
    "P(the|this,is) = \\frac{count(this\\ is\\ the)}{count(this\\ is)}\n",
    "$$"
   ]
  },
  {
   "cell_type": "markdown",
   "metadata": {},
   "source": [
    "### 使用N-Gram模型進行預測\n",
    "這裡我們使用4 gram模型，也就是輸入三個字之後，第四個字出現的機率，並將輸出依據機率做排序"
   ]
  },
  {
   "cell_type": "code",
   "execution_count": 19,
   "metadata": {},
   "outputs": [],
   "source": [
    "def n_gram_split(corpus,n):\n",
    "    lst = [corpus[i:i+n] for i in range(len(corpus)) if i <= len(corpus)-n]\n",
    "    return {i:lst.count(i) for i in lst}\n",
    "\n",
    "def n_gram_prediction(n,corpus_list):\n",
    "    \n",
    "    globals()[f'n{n}'] = Counter()\n",
    "    globals()[f'n{n-1}'] = Counter()\n",
    "    for i in corpus_list:\n",
    "        globals()[f'n{n-1}'] = eval(f'n{n-1}') + Counter(n_gram_split(i,n-1))\n",
    "        globals()[f'n{n}'] = eval(f'n{n}') + Counter(n_gram_split(i,n))\n",
    "        \n",
    "    prob_dict = {k:eval(f'n{n}')[k]/eval(f'n{n-1}')[k[:-1]] for k in eval(f'n{n}').keys()}\n",
    "    return prob_dict\n",
    "\n",
    "n_4 = n_gram_prediction(4,corpus_list)"
   ]
  },
  {
   "cell_type": "code",
   "execution_count": 22,
   "metadata": {},
   "outputs": [
    {
     "data": {
      "text/plain": [
       "{'鄭文燦今': 0.9795698924731183,\n",
       " '鄭文燦模': 0.002150537634408602,\n",
       " '鄭文燦市': 0.00967741935483871,\n",
       " '鄭文燦台': 0.001075268817204301,\n",
       " '鄭文燦率': 0.001075268817204301,\n",
       " '鄭文燦於': 0.001075268817204301,\n",
       " '鄭文燦表': 0.002150537634408602,\n",
       " '鄭文燦昨': 0.001075268817204301,\n",
       " '鄭文燦成': 0.001075268817204301,\n",
       " '鄭文燦回': 0.001075268817204301}"
      ]
     },
     "execution_count": 22,
     "metadata": {},
     "output_type": "execute_result"
    }
   ],
   "source": [
    "def input_string(prob_dict,string):\n",
    "    return {k:prob_dict[k] for k in prob_dict.keys() if k[:-1] == string}\n",
    "\n",
    "input_string(n_4,'鄭文燦')"
   ]
  }
 ],
 "metadata": {
  "kernelspec": {
   "display_name": "finlab",
   "language": "python",
   "name": "finlab"
  },
  "language_info": {
   "codemirror_mode": {
    "name": "ipython",
    "version": 3
   },
   "file_extension": ".py",
   "mimetype": "text/x-python",
   "name": "python",
   "nbconvert_exporter": "python",
   "pygments_lexer": "ipython3",
   "version": "3.6.8"
  }
 },
 "nbformat": 4,
 "nbformat_minor": 4
}
